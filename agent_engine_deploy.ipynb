{
 "cells": [
  {
   "cell_type": "code",
   "execution_count": 3,
   "id": "d71e44a5",
   "metadata": {},
   "outputs": [],
   "source": [
    "# deploy.py\n",
    "import os\n",
    "import vertexai\n",
    "from dotenv import load_dotenv\n",
    "from scrap_translate.agent import root_agent\n",
    "\n",
    "# Load environment variables from .env file for local execution of this script\n",
    "load_dotenv()\n",
    "\n",
    "# --- Configuration ---\n",
    "# Replace with your real values, or set them in a .env file.\n",
    "GCP_PROJECT_ID = \"alpha-code-461805\"\n",
    "GCP_LOCATION = \"us-central1\"\n",
    "# e.g., \"gs://your-gcs-staging-bucket\"\n",
    "STAGING_BUCKET_URI =\"gs://a2a_search_agent\"\n",
    "AGENT_DISPLAY_NAME = \"Scrap and Translate Agent\"\n",
    "AGENT_DESCRIPTION = \"An agent that can list and call other agents to perform tasks.\"\n",
    "\n",
    "if not all([GCP_PROJECT_ID, GCP_LOCATION, STAGING_BUCKET_URI]):\n",
    "    raise ValueError(\n",
    "        \"Please set GOOGLE_CLOUD_PROJECT, GOOGLE_CLOUD_LOCATION, and STAGING_BUCKET_URI \"\n",
    "        \"in your environment or a .env file.\"\n",
    "    )"
   ]
  },
  {
   "cell_type": "code",
   "execution_count": 4,
   "id": "50a4e073",
   "metadata": {},
   "outputs": [
    {
     "name": "stdout",
     "output_type": "stream",
     "text": [
      "Requirement already satisfied: cloudpickle in ./.venv/lib/python3.12/site-packages (3.1.1)\n",
      "\n",
      "\u001b[1m[\u001b[0m\u001b[34;49mnotice\u001b[0m\u001b[1;39;49m]\u001b[0m\u001b[39;49m A new release of pip is available: \u001b[0m\u001b[31;49m24.2\u001b[0m\u001b[39;49m -> \u001b[0m\u001b[32;49m25.1.1\u001b[0m\n",
      "\u001b[1m[\u001b[0m\u001b[34;49mnotice\u001b[0m\u001b[1;39;49m]\u001b[0m\u001b[39;49m To update, run: \u001b[0m\u001b[32;49mpip install --upgrade pip\u001b[0m\n"
     ]
    }
   ],
   "source": [
    "import sys\n",
    "!{sys.executable} -m pip install cloudpickle\n",
    "import cloudpickle"
   ]
  },
  {
   "cell_type": "code",
   "execution_count": 5,
   "id": "eea3209f",
   "metadata": {},
   "outputs": [],
   "source": [
    "# --- 1. Initialize Vertex AI SDK ---\n",
    "vertexai.init(\n",
    "    project=GCP_PROJECT_ID,\n",
    "    location=GCP_LOCATION,\n",
    "    staging_bucket=STAGING_BUCKET_URI\n",
    ")\n",
    "\n",
    "# --- 2. Define Deployment Configuration ---\n",
    "# List of PyPI packages required by your agent.\n",
    "# The Reasoning Engine service will install these dependencies.\n",
    "requirements = [\n",
    "    # google-cloud-aiplatform with reasoningengine and adk extras is needed\n",
    "    \"google-cloud-aiplatform[reasoningengine,adk]\",\n",
    "    \"httpx\",\n",
    "    \"python-dotenv\",\n",
    "    \"a2a-client\",  # Based on your agent's imports\n",
    "]\n",
    "\n",
    "# The directory containing your agent's Python package.\n",
    "# This will be packaged and uploaded.\n",
    "extra_packages = [\n",
    "    \"./scrap_translate\",\n",
    "]"
   ]
  },
  {
   "cell_type": "code",
   "execution_count": 6,
   "id": "048fdf40",
   "metadata": {},
   "outputs": [],
   "source": [
    "#Use reasoning_engines.AdkApp() to wrap your agent to make it deployable to Agent Engine\n",
    "\n",
    "\n",
    "from vertexai.preview import reasoning_engines\n",
    "\n",
    "app = reasoning_engines.AdkApp(\n",
    "    agent=root_agent,\n",
    "    enable_tracing=True,\n",
    ")"
   ]
  },
  {
   "cell_type": "code",
   "execution_count": 7,
   "id": "2a2924a2",
   "metadata": {},
   "outputs": [
    {
     "name": "stderr",
     "output_type": "stream",
     "text": [
      "2025-07-17 18:19:25,327 - DEBUG - asyncio - Using selector: KqueueSelector\n",
      "2025-07-17 18:19:25,406 - DEBUG - google.auth._default - Checking None for explicit credentials as part of auth process...\n",
      "2025-07-17 18:19:25,407 - DEBUG - google.auth._default - Checking Cloud SDK credentials as part of auth process...\n"
     ]
    },
    {
     "data": {
      "text/plain": [
       "Session(id='6152df4d-1630-4172-b733-49b3e272f34c', app_name='default-app-name', user_id='u_123', state={}, events=[], last_update_time=1752756566.564623)"
      ]
     },
     "execution_count": 7,
     "metadata": {},
     "output_type": "execute_result"
    }
   ],
   "source": [
    "#Create Session Locally\n",
    "session = app.create_session(user_id=\"u_123\")\n",
    "session"
   ]
  },
  {
   "cell_type": "code",
   "execution_count": 8,
   "id": "3485dab4",
   "metadata": {},
   "outputs": [
    {
     "name": "stderr",
     "output_type": "stream",
     "text": [
      "2025-07-17 18:19:28,424 - DEBUG - asyncio - Using selector: KqueueSelector\n",
      "2025-07-17 18:19:28,429 - INFO - google_genai._api_client - The project/location from the environment variables will take precedence over the API key from the environment variables.\n",
      "2025-07-17 18:19:28,524 - INFO - google_adk.google.adk.models.google_llm - Sending out request, model: gemini-2.5-pro, backend: vertex, stream: False\n",
      "2025-07-17 18:19:28,526 - INFO - google_adk.google.adk.models.google_llm - \n",
      "LLM Request:\n",
      "-----------------------------------------------------------\n",
      "System Instruction:\n",
      "You are a root orchestrator agent. You have two tools:\n",
      "1) list_agents() → Use this tool to see a list of all available agents and their capabilities.\n",
      "2) call_agent(agent_name: str, message: str) → Use this tool to send a message to a specific agent by its name and get its response.\n",
      "Use these tools to fulfill user requests by discovering and interacting with other agents as needed.\n",
      "\n",
      "\n",
      "You are an agent. Your internal name is \"root_orchestrator\".\n",
      "\n",
      " The description about you is \"Discovers and orchestrates other agents\"\n",
      "-----------------------------------------------------------\n",
      "Contents:\n",
      "{\"parts\":[{\"text\":\"Summarize the following BLOG URL : https://medium.com/google-cloud/the-agent-advantage-why-smart-ai-is-better-than-simple-bots-and-how-to-know-whats-real-62bebc28a0e6\"}],\"role\":\"user\"}\n",
      "-----------------------------------------------------------\n",
      "Functions:\n",
      "list_agents: {} -> {'items': {'type': <Type.OBJECT: 'OBJECT'>}, 'type': <Type.ARRAY: 'ARRAY'>}\n",
      "call_agent: {'agent_name': {'type': <Type.STRING: 'STRING'>}, 'message': {'type': <Type.STRING: 'STRING'>}} -> {'type': <Type.STRING: 'STRING'>}\n",
      "-----------------------------------------------------------\n",
      "\n",
      "2025-07-17 18:19:28,526 - INFO - google_genai.models - AFC is enabled with max remote calls: 10.\n",
      "2025-07-17 18:19:29,373 - DEBUG - urllib3.connectionpool - Starting new HTTPS connection (1): oauth2.googleapis.com:443\n",
      "2025-07-17 18:19:29,622 - DEBUG - urllib3.connectionpool - https://oauth2.googleapis.com:443 \"POST /token HTTP/1.1\" 200 None\n",
      "2025-07-17 18:19:29,656 - DEBUG - httpcore.connection - connect_tcp.started host='us-central1-aiplatform.googleapis.com' port=443 local_address=None timeout=None socket_options=None\n",
      "2025-07-17 18:19:29,709 - DEBUG - httpcore.connection - connect_tcp.complete return_value=<httpcore._backends.anyio.AnyIOStream object at 0x12b916180>\n",
      "2025-07-17 18:19:29,710 - DEBUG - httpcore.connection - start_tls.started ssl_context=<ssl.SSLContext object at 0x12bed51d0> server_hostname='us-central1-aiplatform.googleapis.com' timeout=None\n",
      "2025-07-17 18:19:29,747 - DEBUG - httpcore.connection - start_tls.complete return_value=<httpcore._backends.anyio.AnyIOStream object at 0x12b8f05f0>\n",
      "2025-07-17 18:19:29,750 - DEBUG - httpcore.http11 - send_request_headers.started request=<Request [b'POST']>\n",
      "2025-07-17 18:19:29,751 - DEBUG - httpcore.http11 - send_request_headers.complete\n",
      "2025-07-17 18:19:29,751 - DEBUG - httpcore.http11 - send_request_body.started request=<Request [b'POST']>\n",
      "2025-07-17 18:19:29,752 - DEBUG - httpcore.http11 - send_request_body.complete\n",
      "2025-07-17 18:19:29,753 - DEBUG - httpcore.http11 - receive_response_headers.started request=<Request [b'POST']>\n",
      "2025-07-17 18:19:43,366 - DEBUG - httpcore.http11 - receive_response_headers.complete return_value=(b'HTTP/1.1', 200, b'OK', [(b'Content-Type', b'application/json; charset=UTF-8'), (b'Vary', b'Origin'), (b'Vary', b'X-Origin'), (b'Vary', b'Referer'), (b'Content-Encoding', b'gzip'), (b'Date', b'Thu, 17 Jul 2025 12:49:43 GMT'), (b'Server', b'scaffolding on HTTPServer2'), (b'X-XSS-Protection', b'0'), (b'X-Frame-Options', b'SAMEORIGIN'), (b'X-Content-Type-Options', b'nosniff'), (b'Alt-Svc', b'h3=\":443\"; ma=2592000,h3-29=\":443\"; ma=2592000'), (b'Transfer-Encoding', b'chunked')])\n",
      "2025-07-17 18:19:43,367 - INFO - httpx - HTTP Request: POST https://us-central1-aiplatform.googleapis.com/v1beta1/projects/alpha-code-461805/locations/us-central1/publishers/google/models/gemini-2.5-pro:generateContent \"HTTP/1.1 200 OK\"\n",
      "2025-07-17 18:19:43,368 - DEBUG - httpcore.http11 - receive_response_body.started request=<Request [b'POST']>\n",
      "2025-07-17 18:19:43,375 - DEBUG - httpcore.http11 - receive_response_body.complete\n",
      "2025-07-17 18:19:43,376 - DEBUG - httpcore.http11 - response_closed.started\n",
      "2025-07-17 18:19:43,376 - DEBUG - httpcore.http11 - response_closed.complete\n",
      "2025-07-17 18:19:43,377 - WARNING - google_genai.types - Warning: there are non-text parts in the response: ['function_call'], returning concatenated text result from text parts. Check the full candidates.content.parts accessor to get the full model response.\n",
      "2025-07-17 18:19:43,378 - INFO - google_adk.google.adk.models.google_llm - \n",
      "LLM Response:\n",
      "-----------------------------------------------------------\n",
      "Text:\n",
      "None\n",
      "-----------------------------------------------------------\n",
      "Function calls:\n",
      "name: list_agents, args: {}\n",
      "-----------------------------------------------------------\n",
      "Raw response:\n",
      "{\"sdk_http_response\":{\"headers\":{\"content-type\":\"application/json; charset=UTF-8\",\"vary\":\"Origin, X-Origin, Referer\",\"content-encoding\":\"gzip\",\"date\":\"Thu, 17 Jul 2025 12:49:43 GMT\",\"server\":\"scaffolding on HTTPServer2\",\"x-xss-protection\":\"0\",\"x-frame-options\":\"SAMEORIGIN\",\"x-content-type-options\":\"nosniff\",\"alt-svc\":\"h3=\\\":443\\\"; ma=2592000,h3-29=\\\":443\\\"; ma=2592000\",\"transfer-encoding\":\"chunked\"}},\"candidates\":[{\"content\":{\"parts\":[{\"function_call\":{\"args\":{},\"name\":\"list_agents\"}}],\"role\":\"model\"},\"finish_reason\":\"STOP\",\"avg_logprobs\":-30.61693064371745}],\"create_time\":\"2025-07-17T12:49:31.278013Z\",\"response_id\":\"W_F4aP37EM-FsbQPhLONeQ\",\"model_version\":\"gemini-2.5-pro\",\"usage_metadata\":{\"candidates_token_count\":3,\"candidates_tokens_details\":[{\"modality\":\"TEXT\",\"token_count\":3}],\"prompt_token_count\":260,\"prompt_tokens_details\":[{\"modality\":\"TEXT\",\"token_count\":260}],\"thoughts_token_count\":894,\"total_token_count\":1157,\"traffic_type\":\"ON_DEMAND\"},\"automatic_function_calling_history\":[]}\n",
      "-----------------------------------------------------------\n",
      "\n",
      "2025-07-17 18:19:43,406 - INFO - scrap_translate.agent - Initializing A2ACardResolver to fetch agent capabilities.\n",
      "2025-07-17 18:19:43,432 - INFO - scrap_translate.agent - Attempting to fetch public agent card from: https://search-agent-100889782425.us-central1.run.app\n",
      "2025-07-17 18:19:43,434 - DEBUG - httpcore.connection - connect_tcp.started host='search-agent-100889782425.us-central1.run.app' port=443 local_address=None timeout=3000 socket_options=None\n",
      "2025-07-17 18:19:43,452 - DEBUG - httpcore.connection - connect_tcp.complete return_value=<httpcore._backends.anyio.AnyIOStream object at 0x12ba32870>\n",
      "2025-07-17 18:19:43,453 - DEBUG - httpcore.connection - start_tls.started ssl_context=<ssl.SSLContext object at 0x12bfc87d0> server_hostname='search-agent-100889782425.us-central1.run.app' timeout=3000\n",
      "2025-07-17 18:19:43,501 - DEBUG - httpcore.connection - start_tls.complete return_value=<httpcore._backends.anyio.AnyIOStream object at 0x12ba326f0>\n",
      "2025-07-17 18:19:43,510 - DEBUG - httpcore.http11 - send_request_headers.started request=<Request [b'GET']>\n",
      "2025-07-17 18:19:43,512 - DEBUG - httpcore.http11 - send_request_headers.complete\n",
      "2025-07-17 18:19:43,512 - DEBUG - httpcore.http11 - send_request_body.started request=<Request [b'GET']>\n",
      "2025-07-17 18:19:43,512 - DEBUG - httpcore.http11 - send_request_body.complete\n",
      "2025-07-17 18:19:43,513 - DEBUG - httpcore.http11 - receive_response_headers.started request=<Request [b'GET']>\n"
     ]
    },
    {
     "name": "stdout",
     "output_type": "stream",
     "text": [
      "{'content': {'parts': [{'function_call': {'id': 'adk-84af9ca3-07a1-4512-8938-529639dc550f', 'args': {}, 'name': 'list_agents'}}], 'role': 'model'}, 'usage_metadata': {'candidates_token_count': 3, 'candidates_tokens_details': [{'modality': <MediaModality.TEXT: 'TEXT'>, 'token_count': 3}], 'prompt_token_count': 260, 'prompt_tokens_details': [{'modality': <MediaModality.TEXT: 'TEXT'>, 'token_count': 260}], 'thoughts_token_count': 894, 'total_token_count': 1157, 'traffic_type': <TrafficType.ON_DEMAND: 'ON_DEMAND'>}, 'invocation_id': 'e-c033834c-720e-4193-a922-84a823252886', 'author': 'root_orchestrator', 'actions': {'state_delta': {}, 'artifact_delta': {}, 'requested_auth_configs': {}}, 'long_running_tool_ids': set(), 'id': 'jHAePpsz', 'timestamp': 1752756568.429337}\n"
     ]
    },
    {
     "name": "stderr",
     "output_type": "stream",
     "text": [
      "2025-07-17 18:19:43,799 - DEBUG - httpcore.http11 - receive_response_headers.complete return_value=(b'HTTP/1.1', 200, b'OK', [(b'content-type', b'application/json'), (b'x-cloud-trace-context', b'34f37298310511d15dba0e3962e80feb;o=1'), (b'date', b'Thu, 17 Jul 2025 12:49:43 GMT'), (b'server', b'Google Frontend'), (b'Content-Length', b'772'), (b'Alt-Svc', b'h3=\":443\"; ma=2592000,h3-29=\":443\"; ma=2592000')])\n",
      "2025-07-17 18:19:43,800 - INFO - httpx - HTTP Request: GET https://search-agent-100889782425.us-central1.run.app/.well-known/agent.json \"HTTP/1.1 200 OK\"\n",
      "2025-07-17 18:19:43,800 - DEBUG - httpcore.http11 - receive_response_body.started request=<Request [b'GET']>\n",
      "2025-07-17 18:19:43,801 - DEBUG - httpcore.http11 - receive_response_body.complete\n",
      "2025-07-17 18:19:43,802 - DEBUG - httpcore.http11 - response_closed.started\n",
      "2025-07-17 18:19:43,803 - DEBUG - httpcore.http11 - response_closed.complete\n",
      "2025-07-17 18:19:43,803 - INFO - a2a.client.client - Successfully fetched agent card data from https://search-agent-100889782425.us-central1.run.app/.well-known/agent.json: {'capabilities': {'streaming': True}, 'defaultInputModes': ['text'], 'defaultOutputModes': ['text'], 'description': 'Agent designed to efficiently scrape specified content from multiple URLs or single URL provided by the user.', 'name': 'MultiURLBrowser', 'protocolVersion': '0.2.5', 'skills': [{'description': 'Agent to scrape content from the URLs specified by the user.', 'examples': ['Scrape the URL: https://medium.com/@neeraj_agrawal/an-ai-travel-agent-in-action-a-detailed-look-at-how-two-agents-plan-a-trip-86a1735368e1', 'Extract data from: https://www.example.com/page1 and https://www.example.com/page2'], 'id': 'MultiURLBrowser', 'name': 'MultiURLBrowser_Agent', 'tags': ['multi-url', 'browser', 'scraper', 'web']}], 'url': 'https://search-agent-5urnfhd5eq-uc.a.run.app', 'version': '1.0.0'}\n",
      "2025-07-17 18:19:43,804 - INFO - scrap_translate.agent - Successfully fetched public agent card:\n",
      "2025-07-17 18:19:43,804 - INFO - scrap_translate.agent - {\n",
      "  \"capabilities\": {\n",
      "    \"streaming\": true\n",
      "  },\n",
      "  \"defaultInputModes\": [\n",
      "    \"text\"\n",
      "  ],\n",
      "  \"defaultOutputModes\": [\n",
      "    \"text\"\n",
      "  ],\n",
      "  \"description\": \"Agent designed to efficiently scrape specified content from multiple URLs or single URL provided by the user.\",\n",
      "  \"name\": \"MultiURLBrowser\",\n",
      "  \"protocolVersion\": \"0.2.5\",\n",
      "  \"skills\": [\n",
      "    {\n",
      "      \"description\": \"Agent to scrape content from the URLs specified by the user.\",\n",
      "      \"examples\": [\n",
      "        \"Scrape the URL: https://medium.com/@neeraj_agrawal/an-ai-travel-agent-in-action-a-detailed-look-at-how-two-agents-plan-a-trip-86a1735368e1\",\n",
      "        \"Extract data from: https://www.example.com/page1 and https://www.example.com/page2\"\n",
      "      ],\n",
      "      \"id\": \"MultiURLBrowser\",\n",
      "      \"name\": \"MultiURLBrowser_Agent\",\n",
      "      \"tags\": [\n",
      "        \"multi-url\",\n",
      "        \"browser\",\n",
      "        \"scraper\",\n",
      "        \"web\"\n",
      "      ]\n",
      "    }\n",
      "  ],\n",
      "  \"url\": \"https://search-agent-5urnfhd5eq-uc.a.run.app\",\n",
      "  \"version\": \"1.0.0\"\n",
      "}\n",
      "2025-07-17 18:19:43,805 - INFO - scrap_translate.agent - Using PUBLIC agent card for A2AClient initialization.\n",
      "2025-07-17 18:19:43,809 - INFO - google_genai._api_client - The project/location from the environment variables will take precedence over the API key from the environment variables.\n",
      "2025-07-17 18:19:43,895 - INFO - google_adk.google.adk.models.google_llm - Sending out request, model: gemini-2.5-pro, backend: vertex, stream: False\n",
      "2025-07-17 18:19:43,896 - INFO - google_adk.google.adk.models.google_llm - \n",
      "LLM Request:\n",
      "-----------------------------------------------------------\n",
      "System Instruction:\n",
      "You are a root orchestrator agent. You have two tools:\n",
      "1) list_agents() → Use this tool to see a list of all available agents and their capabilities.\n",
      "2) call_agent(agent_name: str, message: str) → Use this tool to send a message to a specific agent by its name and get its response.\n",
      "Use these tools to fulfill user requests by discovering and interacting with other agents as needed.\n",
      "\n",
      "\n",
      "You are an agent. Your internal name is \"root_orchestrator\".\n",
      "\n",
      " The description about you is \"Discovers and orchestrates other agents\"\n",
      "-----------------------------------------------------------\n",
      "Contents:\n",
      "{\"parts\":[{\"text\":\"Summarize the following BLOG URL : https://medium.com/google-cloud/the-agent-advantage-why-smart-ai-is-better-than-simple-bots-and-how-to-know-whats-real-62bebc28a0e6\"}],\"role\":\"user\"}\n",
      "{\"parts\":[{\"function_call\":{\"args\":{},\"name\":\"list_agents\"}}],\"role\":\"model\"}\n",
      "{\"parts\":[{\"function_response\":{\"name\":\"list_agents\",\"response\":{\"result\":{\"capabilities\":{\"streaming\":true},\"defaultInputModes\":[\"text\"],\"defaultOutputModes\":[\"text\"],\"description\":\"Agent designed to efficiently scrape specified content from multiple URLs or single URL provided by the user.\",\"name\":\"MultiURLBrowser\",\"protocolVersion\":\"0.2.5\",\"skills\":[{\"description\":\"Agent to scrape content from the URLs specified by the user.\",\"examples\":[\"Scrape the URL: https://medium.com/@neeraj_agrawal/an-ai-travel-agent-in-action-a-detailed-look-at-how-two-agents-plan-a-trip-86a1735368e1\",\"Extract data from: https://www.example.com/page1 and https://www.example.com/page2\"],\"id\":\"MultiURLBrowser\",\"name\":\"MultiURLBrowser_Agent\",\"tags\":[\"multi-url\",\"browser\",\"scraper\",\"web\"]}],\"url\":\"https://search-agent-5urnfhd5eq-uc.a.run.app\",\"version\":\"1.0.0\"}}}}],\"role\":\"user\"}\n",
      "-----------------------------------------------------------\n",
      "Functions:\n",
      "list_agents: {} -> {'items': {'type': <Type.OBJECT: 'OBJECT'>}, 'type': <Type.ARRAY: 'ARRAY'>}\n",
      "call_agent: {'agent_name': {'type': <Type.STRING: 'STRING'>}, 'message': {'type': <Type.STRING: 'STRING'>}} -> {'type': <Type.STRING: 'STRING'>}\n",
      "-----------------------------------------------------------\n",
      "\n",
      "2025-07-17 18:19:43,896 - INFO - google_genai.models - AFC is enabled with max remote calls: 10.\n",
      "2025-07-17 18:19:43,899 - DEBUG - httpcore.connection - close.started\n",
      "2025-07-17 18:19:43,909 - DEBUG - httpcore.connection - close.complete\n"
     ]
    },
    {
     "name": "stdout",
     "output_type": "stream",
     "text": [
      "Fetched agent 'MultiURLBrowser' from registry at https://search-agent-100889782425.us-central1.run.app\n",
      "Agent data: additionalInterfaces=None capabilities=AgentCapabilities(extensions=None, pushNotifications=None, stateTransitionHistory=None, streaming=True) defaultInputModes=['text'] defaultOutputModes=['text'] description='Agent designed to efficiently scrape specified content from multiple URLs or single URL provided by the user.' documentationUrl=None iconUrl=None name='MultiURLBrowser' preferredTransport=None protocolVersion='0.2.5' provider=None security=None securitySchemes=None skills=[AgentSkill(description='Agent to scrape content from the URLs specified by the user.', examples=['Scrape the URL: https://medium.com/@neeraj_agrawal/an-ai-travel-agent-in-action-a-detailed-look-at-how-two-agents-plan-a-trip-86a1735368e1', 'Extract data from: https://www.example.com/page1 and https://www.example.com/page2'], id='MultiURLBrowser', inputModes=None, name='MultiURLBrowser_Agent', outputModes=None, tags=['multi-url', 'browser', 'scraper', 'web'])] supportsAuthenticatedExtendedCard=None url='https://search-agent-5urnfhd5eq-uc.a.run.app' version='1.0.0'\n",
      "{'content': {'parts': [{'function_response': {'id': 'adk-84af9ca3-07a1-4512-8938-529639dc550f', 'name': 'list_agents', 'response': {'result': {'capabilities': {'streaming': True}, 'defaultInputModes': ['text'], 'defaultOutputModes': ['text'], 'description': 'Agent designed to efficiently scrape specified content from multiple URLs or single URL provided by the user.', 'name': 'MultiURLBrowser', 'protocolVersion': '0.2.5', 'skills': [{'description': 'Agent to scrape content from the URLs specified by the user.', 'examples': ['Scrape the URL: https://medium.com/@neeraj_agrawal/an-ai-travel-agent-in-action-a-detailed-look-at-how-two-agents-plan-a-trip-86a1735368e1', 'Extract data from: https://www.example.com/page1 and https://www.example.com/page2'], 'id': 'MultiURLBrowser', 'name': 'MultiURLBrowser_Agent', 'tags': ['multi-url', 'browser', 'scraper', 'web']}], 'url': 'https://search-agent-5urnfhd5eq-uc.a.run.app', 'version': '1.0.0'}}}}], 'role': 'user'}, 'invocation_id': 'e-c033834c-720e-4193-a922-84a823252886', 'author': 'root_orchestrator', 'actions': {'state_delta': {}, 'artifact_delta': {}, 'requested_auth_configs': {}}, 'id': '8rpwMu5E', 'timestamp': 1752756583.807213}\n"
     ]
    },
    {
     "name": "stderr",
     "output_type": "stream",
     "text": [
      "2025-07-17 18:19:44,781 - DEBUG - urllib3.connectionpool - Starting new HTTPS connection (1): oauth2.googleapis.com:443\n",
      "2025-07-17 18:19:44,963 - DEBUG - urllib3.connectionpool - https://oauth2.googleapis.com:443 \"POST /token HTTP/1.1\" 200 None\n",
      "2025-07-17 18:19:44,967 - DEBUG - httpcore.connection - connect_tcp.started host='us-central1-aiplatform.googleapis.com' port=443 local_address=None timeout=None socket_options=None\n",
      "2025-07-17 18:19:44,989 - DEBUG - httpcore.connection - connect_tcp.complete return_value=<httpcore._backends.anyio.AnyIOStream object at 0x12ba31520>\n",
      "2025-07-17 18:19:44,990 - DEBUG - httpcore.connection - start_tls.started ssl_context=<ssl.SSLContext object at 0x12bfc85d0> server_hostname='us-central1-aiplatform.googleapis.com' timeout=None\n",
      "2025-07-17 18:19:45,027 - DEBUG - httpcore.connection - start_tls.complete return_value=<httpcore._backends.anyio.AnyIOStream object at 0x12ba20770>\n",
      "2025-07-17 18:19:45,027 - DEBUG - httpcore.http11 - send_request_headers.started request=<Request [b'POST']>\n",
      "2025-07-17 18:19:45,028 - DEBUG - httpcore.http11 - send_request_headers.complete\n",
      "2025-07-17 18:19:45,029 - DEBUG - httpcore.http11 - send_request_body.started request=<Request [b'POST']>\n",
      "2025-07-17 18:19:45,029 - DEBUG - httpcore.http11 - send_request_body.complete\n",
      "2025-07-17 18:19:45,029 - DEBUG - httpcore.http11 - receive_response_headers.started request=<Request [b'POST']>\n",
      "2025-07-17 18:19:46,983 - DEBUG - urllib3.connectionpool - Starting new HTTPS connection (1): oauth2.googleapis.com:443\n",
      "2025-07-17 18:19:47,174 - DEBUG - urllib3.connectionpool - https://oauth2.googleapis.com:443 \"POST /token HTTP/1.1\" 200 None\n",
      "2025-07-17 18:19:51,542 - DEBUG - httpcore.http11 - receive_response_headers.complete return_value=(b'HTTP/1.1', 200, b'OK', [(b'Content-Type', b'application/json; charset=UTF-8'), (b'Vary', b'Origin'), (b'Vary', b'X-Origin'), (b'Vary', b'Referer'), (b'Content-Encoding', b'gzip'), (b'Date', b'Thu, 17 Jul 2025 12:49:51 GMT'), (b'Server', b'scaffolding on HTTPServer2'), (b'X-XSS-Protection', b'0'), (b'X-Frame-Options', b'SAMEORIGIN'), (b'X-Content-Type-Options', b'nosniff'), (b'Alt-Svc', b'h3=\":443\"; ma=2592000,h3-29=\":443\"; ma=2592000'), (b'Transfer-Encoding', b'chunked')])\n",
      "2025-07-17 18:19:51,543 - INFO - httpx - HTTP Request: POST https://us-central1-aiplatform.googleapis.com/v1beta1/projects/alpha-code-461805/locations/us-central1/publishers/google/models/gemini-2.5-pro:generateContent \"HTTP/1.1 200 OK\"\n",
      "2025-07-17 18:19:51,543 - DEBUG - httpcore.http11 - receive_response_body.started request=<Request [b'POST']>\n",
      "2025-07-17 18:19:51,554 - DEBUG - httpcore.http11 - receive_response_body.complete\n",
      "2025-07-17 18:19:51,555 - DEBUG - httpcore.http11 - response_closed.started\n",
      "2025-07-17 18:19:51,556 - DEBUG - httpcore.http11 - response_closed.complete\n",
      "2025-07-17 18:19:51,558 - WARNING - google_genai.types - Warning: there are non-text parts in the response: ['function_call'], returning concatenated text result from text parts. Check the full candidates.content.parts accessor to get the full model response.\n",
      "2025-07-17 18:19:51,559 - INFO - google_adk.google.adk.models.google_llm - \n",
      "LLM Response:\n",
      "-----------------------------------------------------------\n",
      "Text:\n",
      "None\n",
      "-----------------------------------------------------------\n",
      "Function calls:\n",
      "name: call_agent, args: {'agent_name': 'MultiURLBrowser', 'message': 'Summarize the following BLOG URL : https://medium.com/google-cloud/the-agent-advantage-why-smart-ai-is-better-than-simple-bots-and-how-to-know-whats-real-62bebc28a0e6'}\n",
      "-----------------------------------------------------------\n",
      "Raw response:\n",
      "{\"sdk_http_response\":{\"headers\":{\"content-type\":\"application/json; charset=UTF-8\",\"vary\":\"Origin, X-Origin, Referer\",\"content-encoding\":\"gzip\",\"date\":\"Thu, 17 Jul 2025 12:49:51 GMT\",\"server\":\"scaffolding on HTTPServer2\",\"x-xss-protection\":\"0\",\"x-frame-options\":\"SAMEORIGIN\",\"x-content-type-options\":\"nosniff\",\"alt-svc\":\"h3=\\\":443\\\"; ma=2592000,h3-29=\\\":443\\\"; ma=2592000\",\"transfer-encoding\":\"chunked\"}},\"candidates\":[{\"content\":{\"parts\":[{\"function_call\":{\"args\":{\"agent_name\":\"MultiURLBrowser\",\"message\":\"Summarize the following BLOG URL : https://medium.com/google-cloud/the-agent-advantage-why-smart-ai-is-better-than-simple-bots-and-how-to-know-whats-real-62bebc28a0e6\"},\"name\":\"call_agent\"}}],\"role\":\"model\"},\"finish_reason\":\"STOP\",\"avg_logprobs\":-0.3030649641869773}],\"create_time\":\"2025-07-17T12:49:46.546960Z\",\"response_id\":\"avF4aJCxIcqDsbQP696U2Qo\",\"model_version\":\"gemini-2.5-pro\",\"usage_metadata\":{\"candidates_token_count\":71,\"candidates_tokens_details\":[{\"modality\":\"TEXT\",\"token_count\":71}],\"prompt_token_count\":454,\"prompt_tokens_details\":[{\"modality\":\"TEXT\",\"token_count\":454}],\"thoughts_token_count\":344,\"total_token_count\":869,\"traffic_type\":\"ON_DEMAND\"},\"automatic_function_calling_history\":[]}\n",
      "-----------------------------------------------------------\n",
      "\n",
      "2025-07-17 18:19:51,588 - INFO - scrap_translate.agent - Initializing A2ACardResolver to fetch agent capabilities.\n",
      "2025-07-17 18:19:51,617 - INFO - scrap_translate.agent - Attempting to fetch public agent card from: https://search-agent-100889782425.us-central1.run.app\n",
      "2025-07-17 18:19:51,618 - DEBUG - httpcore.connection - connect_tcp.started host='search-agent-100889782425.us-central1.run.app' port=443 local_address=None timeout=3000 socket_options=None\n",
      "2025-07-17 18:19:51,637 - DEBUG - httpcore.connection - connect_tcp.complete return_value=<httpcore._backends.anyio.AnyIOStream object at 0x12ba20e60>\n",
      "2025-07-17 18:19:51,638 - DEBUG - httpcore.connection - start_tls.started ssl_context=<ssl.SSLContext object at 0x12bfc8150> server_hostname='search-agent-100889782425.us-central1.run.app' timeout=3000\n",
      "2025-07-17 18:19:51,691 - DEBUG - httpcore.connection - start_tls.complete return_value=<httpcore._backends.anyio.AnyIOStream object at 0x12b917770>\n",
      "2025-07-17 18:19:51,693 - DEBUG - httpcore.http11 - send_request_headers.started request=<Request [b'GET']>\n",
      "2025-07-17 18:19:51,695 - DEBUG - httpcore.http11 - send_request_headers.complete\n",
      "2025-07-17 18:19:51,705 - DEBUG - httpcore.http11 - send_request_body.started request=<Request [b'GET']>\n",
      "2025-07-17 18:19:51,705 - DEBUG - httpcore.http11 - send_request_body.complete\n",
      "2025-07-17 18:19:51,706 - DEBUG - httpcore.http11 - receive_response_headers.started request=<Request [b'GET']>\n"
     ]
    },
    {
     "name": "stdout",
     "output_type": "stream",
     "text": [
      "{'content': {'parts': [{'function_call': {'id': 'adk-175b55f1-6e78-4aec-87b6-d5e3d3dc039f', 'args': {'agent_name': 'MultiURLBrowser', 'message': 'Summarize the following BLOG URL : https://medium.com/google-cloud/the-agent-advantage-why-smart-ai-is-better-than-simple-bots-and-how-to-know-whats-real-62bebc28a0e6'}, 'name': 'call_agent'}}], 'role': 'model'}, 'usage_metadata': {'candidates_token_count': 71, 'candidates_tokens_details': [{'modality': <MediaModality.TEXT: 'TEXT'>, 'token_count': 71}], 'prompt_token_count': 454, 'prompt_tokens_details': [{'modality': <MediaModality.TEXT: 'TEXT'>, 'token_count': 454}], 'thoughts_token_count': 344, 'total_token_count': 869, 'traffic_type': <TrafficType.ON_DEMAND: 'ON_DEMAND'>}, 'invocation_id': 'e-c033834c-720e-4193-a922-84a823252886', 'author': 'root_orchestrator', 'actions': {'state_delta': {}, 'artifact_delta': {}, 'requested_auth_configs': {}}, 'long_running_tool_ids': set(), 'id': 'DQfPcqxj', 'timestamp': 1752756583.809033}\n"
     ]
    },
    {
     "name": "stderr",
     "output_type": "stream",
     "text": [
      "2025-07-17 18:19:51,992 - DEBUG - httpcore.http11 - receive_response_headers.complete return_value=(b'HTTP/1.1', 200, b'OK', [(b'content-type', b'application/json'), (b'x-cloud-trace-context', b'a6c56316696f259edcd8ed3d4a8412e4'), (b'date', b'Thu, 17 Jul 2025 12:49:51 GMT'), (b'server', b'Google Frontend'), (b'Content-Length', b'772'), (b'Alt-Svc', b'h3=\":443\"; ma=2592000,h3-29=\":443\"; ma=2592000')])\n",
      "2025-07-17 18:19:51,994 - INFO - httpx - HTTP Request: GET https://search-agent-100889782425.us-central1.run.app/.well-known/agent.json \"HTTP/1.1 200 OK\"\n",
      "2025-07-17 18:19:51,999 - DEBUG - httpcore.http11 - receive_response_body.started request=<Request [b'GET']>\n",
      "2025-07-17 18:19:52,000 - DEBUG - httpcore.http11 - receive_response_body.complete\n",
      "2025-07-17 18:19:52,001 - DEBUG - httpcore.http11 - response_closed.started\n",
      "2025-07-17 18:19:52,003 - DEBUG - httpcore.http11 - response_closed.complete\n",
      "2025-07-17 18:19:52,006 - INFO - a2a.client.client - Successfully fetched agent card data from https://search-agent-100889782425.us-central1.run.app/.well-known/agent.json: {'capabilities': {'streaming': True}, 'defaultInputModes': ['text'], 'defaultOutputModes': ['text'], 'description': 'Agent designed to efficiently scrape specified content from multiple URLs or single URL provided by the user.', 'name': 'MultiURLBrowser', 'protocolVersion': '0.2.5', 'skills': [{'description': 'Agent to scrape content from the URLs specified by the user.', 'examples': ['Scrape the URL: https://medium.com/@neeraj_agrawal/an-ai-travel-agent-in-action-a-detailed-look-at-how-two-agents-plan-a-trip-86a1735368e1', 'Extract data from: https://www.example.com/page1 and https://www.example.com/page2'], 'id': 'MultiURLBrowser', 'name': 'MultiURLBrowser_Agent', 'tags': ['multi-url', 'browser', 'scraper', 'web']}], 'url': 'https://search-agent-5urnfhd5eq-uc.a.run.app', 'version': '1.0.0'}\n",
      "2025-07-17 18:19:52,010 - INFO - scrap_translate.agent - Successfully fetched public agent card:\n",
      "2025-07-17 18:19:52,011 - INFO - scrap_translate.agent - {\n",
      "  \"capabilities\": {\n",
      "    \"streaming\": true\n",
      "  },\n",
      "  \"defaultInputModes\": [\n",
      "    \"text\"\n",
      "  ],\n",
      "  \"defaultOutputModes\": [\n",
      "    \"text\"\n",
      "  ],\n",
      "  \"description\": \"Agent designed to efficiently scrape specified content from multiple URLs or single URL provided by the user.\",\n",
      "  \"name\": \"MultiURLBrowser\",\n",
      "  \"protocolVersion\": \"0.2.5\",\n",
      "  \"skills\": [\n",
      "    {\n",
      "      \"description\": \"Agent to scrape content from the URLs specified by the user.\",\n",
      "      \"examples\": [\n",
      "        \"Scrape the URL: https://medium.com/@neeraj_agrawal/an-ai-travel-agent-in-action-a-detailed-look-at-how-two-agents-plan-a-trip-86a1735368e1\",\n",
      "        \"Extract data from: https://www.example.com/page1 and https://www.example.com/page2\"\n",
      "      ],\n",
      "      \"id\": \"MultiURLBrowser\",\n",
      "      \"name\": \"MultiURLBrowser_Agent\",\n",
      "      \"tags\": [\n",
      "        \"multi-url\",\n",
      "        \"browser\",\n",
      "        \"scraper\",\n",
      "        \"web\"\n",
      "      ]\n",
      "    }\n",
      "  ],\n",
      "  \"url\": \"https://search-agent-5urnfhd5eq-uc.a.run.app\",\n",
      "  \"version\": \"1.0.0\"\n",
      "}\n",
      "2025-07-17 18:19:52,013 - INFO - scrap_translate.agent - Using PUBLIC agent card for A2AClient initialization.\n",
      "2025-07-17 18:19:52,046 - DEBUG - a2a.utils.telemetry - Start async tracer\n",
      "2025-07-17 18:19:52,047 - DEBUG - a2a.utils.telemetry - Start async tracer\n",
      "2025-07-17 18:19:52,048 - DEBUG - a2a.utils.telemetry - Start async tracer\n",
      "2025-07-17 18:19:52,049 - DEBUG - httpcore.connection - connect_tcp.started host='search-agent-5urnfhd5eq-uc.a.run.app' port=443 local_address=None timeout=3000 socket_options=None\n",
      "2025-07-17 18:19:52,068 - DEBUG - httpcore.connection - connect_tcp.complete return_value=<httpcore._backends.anyio.AnyIOStream object at 0x12ba36960>\n",
      "2025-07-17 18:19:52,069 - DEBUG - httpcore.connection - start_tls.started ssl_context=<ssl.SSLContext object at 0x12bfc86d0> server_hostname='search-agent-5urnfhd5eq-uc.a.run.app' timeout=3000\n",
      "2025-07-17 18:19:52,107 - DEBUG - httpcore.connection - start_tls.complete return_value=<httpcore._backends.anyio.AnyIOStream object at 0x12ba27410>\n",
      "2025-07-17 18:19:52,108 - DEBUG - httpcore.http11 - send_request_headers.started request=<Request [b'POST']>\n",
      "2025-07-17 18:19:52,109 - DEBUG - httpcore.http11 - send_request_headers.complete\n",
      "2025-07-17 18:19:52,109 - DEBUG - httpcore.http11 - send_request_body.started request=<Request [b'POST']>\n",
      "2025-07-17 18:19:52,110 - DEBUG - httpcore.http11 - send_request_body.complete\n",
      "2025-07-17 18:19:52,110 - DEBUG - httpcore.http11 - receive_response_headers.started request=<Request [b'POST']>\n"
     ]
    },
    {
     "name": "stdout",
     "output_type": "stream",
     "text": [
      "Fetched agent 'MultiURLBrowser' from registry at https://search-agent-100889782425.us-central1.run.app\n",
      "Agent data: additionalInterfaces=None capabilities=AgentCapabilities(extensions=None, pushNotifications=None, stateTransitionHistory=None, streaming=True) defaultInputModes=['text'] defaultOutputModes=['text'] description='Agent designed to efficiently scrape specified content from multiple URLs or single URL provided by the user.' documentationUrl=None iconUrl=None name='MultiURLBrowser' preferredTransport=None protocolVersion='0.2.5' provider=None security=None securitySchemes=None skills=[AgentSkill(description='Agent to scrape content from the URLs specified by the user.', examples=['Scrape the URL: https://medium.com/@neeraj_agrawal/an-ai-travel-agent-in-action-a-detailed-look-at-how-two-agents-plan-a-trip-86a1735368e1', 'Extract data from: https://www.example.com/page1 and https://www.example.com/page2'], id='MultiURLBrowser', inputModes=None, name='MultiURLBrowser_Agent', outputModes=None, tags=['multi-url', 'browser', 'scraper', 'web'])] supportsAuthenticatedExtendedCard=None url='https://search-agent-5urnfhd5eq-uc.a.run.app' version='1.0.0'\n",
      "Connected to A2AClient at https://search-agent-100889782425.us-central1.run.app/\n"
     ]
    },
    {
     "name": "stderr",
     "output_type": "stream",
     "text": [
      "2025-07-17 18:20:14,686 - DEBUG - httpcore.http11 - receive_response_headers.complete return_value=(b'HTTP/1.1', 200, b'OK', [(b'content-type', b'application/json'), (b'x-cloud-trace-context', b'0447b9c9488692997791afa9a2921cf2'), (b'date', b'Thu, 17 Jul 2025 12:50:14 GMT'), (b'server', b'Google Frontend'), (b'Content-Length', b'3405'), (b'Alt-Svc', b'h3=\":443\"; ma=2592000,h3-29=\":443\"; ma=2592000')])\n",
      "2025-07-17 18:20:14,686 - INFO - httpx - HTTP Request: POST https://search-agent-5urnfhd5eq-uc.a.run.app \"HTTP/1.1 200 OK\"\n",
      "2025-07-17 18:20:14,687 - DEBUG - httpcore.http11 - receive_response_body.started request=<Request [b'POST']>\n",
      "2025-07-17 18:20:14,687 - DEBUG - httpcore.http11 - receive_response_body.complete\n",
      "2025-07-17 18:20:14,688 - DEBUG - httpcore.http11 - response_closed.started\n",
      "2025-07-17 18:20:14,688 - DEBUG - httpcore.http11 - response_closed.complete\n",
      "2025-07-17 18:20:14,690 - INFO - google_genai._api_client - The project/location from the environment variables will take precedence over the API key from the environment variables.\n",
      "2025-07-17 18:20:14,748 - INFO - google_adk.google.adk.models.google_llm - Sending out request, model: gemini-2.5-pro, backend: vertex, stream: False\n",
      "2025-07-17 18:20:14,748 - INFO - google_adk.google.adk.models.google_llm - \n",
      "LLM Request:\n",
      "-----------------------------------------------------------\n",
      "System Instruction:\n",
      "You are a root orchestrator agent. You have two tools:\n",
      "1) list_agents() → Use this tool to see a list of all available agents and their capabilities.\n",
      "2) call_agent(agent_name: str, message: str) → Use this tool to send a message to a specific agent by its name and get its response.\n",
      "Use these tools to fulfill user requests by discovering and interacting with other agents as needed.\n",
      "\n",
      "\n",
      "You are an agent. Your internal name is \"root_orchestrator\".\n",
      "\n",
      " The description about you is \"Discovers and orchestrates other agents\"\n",
      "-----------------------------------------------------------\n",
      "Contents:\n",
      "{\"parts\":[{\"text\":\"Summarize the following BLOG URL : https://medium.com/google-cloud/the-agent-advantage-why-smart-ai-is-better-than-simple-bots-and-how-to-know-whats-real-62bebc28a0e6\"}],\"role\":\"user\"}\n",
      "{\"parts\":[{\"function_call\":{\"args\":{},\"name\":\"list_agents\"}}],\"role\":\"model\"}\n",
      "{\"parts\":[{\"function_response\":{\"name\":\"list_agents\",\"response\":{\"result\":{\"capabilities\":{\"streaming\":true},\"defaultInputModes\":[\"text\"],\"defaultOutputModes\":[\"text\"],\"description\":\"Agent designed to efficiently scrape specified content from multiple URLs or single URL provided by the user.\",\"name\":\"MultiURLBrowser\",\"protocolVersion\":\"0.2.5\",\"skills\":[{\"description\":\"Agent to scrape content from the URLs specified by the user.\",\"examples\":[\"Scrape the URL: https://medium.com/@neeraj_agrawal/an-ai-travel-agent-in-action-a-detailed-look-at-how-two-agents-plan-a-trip-86a1735368e1\",\"Extract data from: https://www.example.com/page1 and https://www.example.com/page2\"],\"id\":\"MultiURLBrowser\",\"name\":\"MultiURLBrowser_Agent\",\"tags\":[\"multi-url\",\"browser\",\"scraper\",\"web\"]}],\"url\":\"https://search-agent-5urnfhd5eq-uc.a.run.app\",\"version\":\"1.0.0\"}}}}],\"role\":\"user\"}\n",
      "{\"parts\":[{\"function_call\":{\"args\":{\"agent_name\":\"MultiURLBrowser\",\"message\":\"Summarize the following BLOG URL : https://medium.com/google-cloud/the-agent-advantage-why-smart-ai-is-better-than-simple-bots-and-how-to-know-whats-real-62bebc28a0e6\"},\"name\":\"call_agent\"}}],\"role\":\"model\"}\n",
      "{\"parts\":[{\"function_response\":{\"name\":\"call_agent\",\"response\":{\"result\":\"This article from the Google Cloud - Community blog explains the difference between AI agents and simpler bots, highlighting the \\\"agent advantage.\\\" Here's a summary:\\n\\n**AI agents are a major advancement over traditional chatbots.** While bots follow pre-programmed scripts, AI agents are autonomous systems that can understand goals, create plans, and take independent action. They are described as \\\"digital teammates\\\" capable of handling complex and important tasks.\\n\\nAn AI agent has three key components:\\n\\n*   **An LLM \\\"Brain\\\":** A large language model (like Google's Gemini) that provides the core intelligence for understanding, reasoning, and planning.\\n*   **Memory:** Both short-term memory for the current task and long-term memory to recall past interactions and learn over time.\\n*   **Tool Use:** The ability to connect to and use other software, APIs, and data sources, allowing the agent to perform actions in the real world (e.g., accessing customer records, booking systems, or the internet).\\n\\nThe article also contrasts AI agents with a simpler technique called **prompt chaining**. Prompt chaining is like a fixed recipe, where a series of AI prompts are run in a specific order. This is useful for straightforward, repetitive tasks. AI agents, on the other hand, are dynamic. They can analyze a situation, choose the right tools for the job, and adapt their plan if they encounter problems.\\n\\nThe article uses a travel-related example to illustrate the difference. Prompt chaining could be used to analyze customer feedback in a structured way. However, an AI agent could handle a complex customer request like changing a flight and hotel booking by dynamically accessing airline and hotel systems, calculating fees, and presenting the customer with a personalized solution.\\n\\nIn essence, if a task is predictable and follows a clear path, prompt chaining may be sufficient. But for complex, dynamic tasks that require independent decision-making and interaction with various systems, an AI agent is necessary.\"}}}],\"role\":\"user\"}\n",
      "-----------------------------------------------------------\n",
      "Functions:\n",
      "list_agents: {} -> {'items': {'type': <Type.OBJECT: 'OBJECT'>}, 'type': <Type.ARRAY: 'ARRAY'>}\n",
      "call_agent: {'agent_name': {'type': <Type.STRING: 'STRING'>}, 'message': {'type': <Type.STRING: 'STRING'>}} -> {'type': <Type.STRING: 'STRING'>}\n",
      "-----------------------------------------------------------\n",
      "\n",
      "2025-07-17 18:20:14,749 - INFO - google_genai.models - AFC is enabled with max remote calls: 10.\n",
      "2025-07-17 18:20:14,750 - DEBUG - httpcore.connection - close.started\n",
      "2025-07-17 18:20:14,750 - DEBUG - httpcore.connection - close.complete\n"
     ]
    },
    {
     "name": "stdout",
     "output_type": "stream",
     "text": [
      "Response from send_message: root=SendMessageSuccessResponse(id=1, jsonrpc='2.0', result=Task(artifacts=None, contextId='74ea7c75-16ef-4603-b192-040668496bad', history=[Message(contextId='74ea7c75-16ef-4603-b192-040668496bad', extensions=None, kind='message', messageId='4aef194c950048bf91381b1ecde920f4', metadata=None, parts=[Part(root=TextPart(kind='text', metadata=None, text='Summarize the following BLOG URL : https://medium.com/google-cloud/the-agent-advantage-why-smart-ai-is-better-than-simple-bots-and-how-to-know-whats-real-62bebc28a0e6'))], referenceTaskIds=None, role=<Role.user: 'user'>, taskId='6d77641b-a173-41c5-86ec-de039f252da9'), Message(contextId='74ea7c75-16ef-4603-b192-040668496bad', extensions=None, kind='message', messageId='20f07ea4-0489-468e-bcd0-035a18605620', metadata=None, parts=[Part(root=TextPart(kind='text', metadata=None, text='Processing the web crawling request...'))], referenceTaskIds=None, role=<Role.agent: 'agent'>, taskId='6d77641b-a173-41c5-86ec-de039f252da9'), Message(contextId='74ea7c75-16ef-4603-b192-040668496bad', extensions=None, kind='message', messageId='4a70659d-2944-4022-a2a9-075b2f2967c6', metadata=None, parts=[Part(root=TextPart(kind='text', metadata=None, text='Processing the web crawling request...'))], referenceTaskIds=None, role=<Role.agent: 'agent'>, taskId='6d77641b-a173-41c5-86ec-de039f252da9')], id='6d77641b-a173-41c5-86ec-de039f252da9', kind='task', metadata=None, status=TaskStatus(message=Message(contextId='74ea7c75-16ef-4603-b192-040668496bad', extensions=None, kind='message', messageId='f4f2cdaa-9ba3-4a0b-9d61-a858f704b306', metadata=None, parts=[Part(root=TextPart(kind='text', metadata=None, text='This article from the Google Cloud - Community blog explains the difference between AI agents and simpler bots, highlighting the \"agent advantage.\" Here\\'s a summary:\\n\\n**AI agents are a major advancement over traditional chatbots.** While bots follow pre-programmed scripts, AI agents are autonomous systems that can understand goals, create plans, and take independent action. They are described as \"digital teammates\" capable of handling complex and important tasks.\\n\\nAn AI agent has three key components:\\n\\n*   **An LLM \"Brain\":** A large language model (like Google\\'s Gemini) that provides the core intelligence for understanding, reasoning, and planning.\\n*   **Memory:** Both short-term memory for the current task and long-term memory to recall past interactions and learn over time.\\n*   **Tool Use:** The ability to connect to and use other software, APIs, and data sources, allowing the agent to perform actions in the real world (e.g., accessing customer records, booking systems, or the internet).\\n\\nThe article also contrasts AI agents with a simpler technique called **prompt chaining**. Prompt chaining is like a fixed recipe, where a series of AI prompts are run in a specific order. This is useful for straightforward, repetitive tasks. AI agents, on the other hand, are dynamic. They can analyze a situation, choose the right tools for the job, and adapt their plan if they encounter problems.\\n\\nThe article uses a travel-related example to illustrate the difference. Prompt chaining could be used to analyze customer feedback in a structured way. However, an AI agent could handle a complex customer request like changing a flight and hotel booking by dynamically accessing airline and hotel systems, calculating fees, and presenting the customer with a personalized solution.\\n\\nIn essence, if a task is predictable and follows a clear path, prompt chaining may be sufficient. But for complex, dynamic tasks that require independent decision-making and interaction with various systems, an AI agent is necessary.'))], referenceTaskIds=None, role=<Role.agent: 'agent'>, taskId='6d77641b-a173-41c5-86ec-de039f252da9'), state=<TaskState.completed: 'completed'>, timestamp='2025-07-17T12:50:14.645542+00:00')))\n",
      "{'content': {'parts': [{'function_response': {'id': 'adk-175b55f1-6e78-4aec-87b6-d5e3d3dc039f', 'name': 'call_agent', 'response': {'result': 'This article from the Google Cloud - Community blog explains the difference between AI agents and simpler bots, highlighting the \"agent advantage.\" Here\\'s a summary:\\n\\n**AI agents are a major advancement over traditional chatbots.** While bots follow pre-programmed scripts, AI agents are autonomous systems that can understand goals, create plans, and take independent action. They are described as \"digital teammates\" capable of handling complex and important tasks.\\n\\nAn AI agent has three key components:\\n\\n*   **An LLM \"Brain\":** A large language model (like Google\\'s Gemini) that provides the core intelligence for understanding, reasoning, and planning.\\n*   **Memory:** Both short-term memory for the current task and long-term memory to recall past interactions and learn over time.\\n*   **Tool Use:** The ability to connect to and use other software, APIs, and data sources, allowing the agent to perform actions in the real world (e.g., accessing customer records, booking systems, or the internet).\\n\\nThe article also contrasts AI agents with a simpler technique called **prompt chaining**. Prompt chaining is like a fixed recipe, where a series of AI prompts are run in a specific order. This is useful for straightforward, repetitive tasks. AI agents, on the other hand, are dynamic. They can analyze a situation, choose the right tools for the job, and adapt their plan if they encounter problems.\\n\\nThe article uses a travel-related example to illustrate the difference. Prompt chaining could be used to analyze customer feedback in a structured way. However, an AI agent could handle a complex customer request like changing a flight and hotel booking by dynamically accessing airline and hotel systems, calculating fees, and presenting the customer with a personalized solution.\\n\\nIn essence, if a task is predictable and follows a clear path, prompt chaining may be sufficient. But for complex, dynamic tasks that require independent decision-making and interaction with various systems, an AI agent is necessary.'}}}], 'role': 'user'}, 'invocation_id': 'e-c033834c-720e-4193-a922-84a823252886', 'author': 'root_orchestrator', 'actions': {'state_delta': {}, 'artifact_delta': {}, 'requested_auth_configs': {}}, 'id': 'EYDKTwkw', 'timestamp': 1752756614.688977}\n"
     ]
    },
    {
     "name": "stderr",
     "output_type": "stream",
     "text": [
      "2025-07-17 18:20:15,211 - DEBUG - urllib3.connectionpool - Starting new HTTPS connection (1): oauth2.googleapis.com:443\n",
      "2025-07-17 18:20:15,399 - DEBUG - urllib3.connectionpool - https://oauth2.googleapis.com:443 \"POST /token HTTP/1.1\" 200 None\n",
      "2025-07-17 18:20:15,400 - DEBUG - httpcore.connection - connect_tcp.started host='us-central1-aiplatform.googleapis.com' port=443 local_address=None timeout=None socket_options=None\n",
      "2025-07-17 18:20:15,416 - DEBUG - httpcore.connection - connect_tcp.complete return_value=<httpcore._backends.anyio.AnyIOStream object at 0x12bff0830>\n",
      "2025-07-17 18:20:15,417 - DEBUG - httpcore.connection - start_tls.started ssl_context=<ssl.SSLContext object at 0x12bed4850> server_hostname='us-central1-aiplatform.googleapis.com' timeout=None\n",
      "2025-07-17 18:20:15,452 - DEBUG - httpcore.connection - start_tls.complete return_value=<httpcore._backends.anyio.AnyIOStream object at 0x12ba19d30>\n",
      "2025-07-17 18:20:15,453 - DEBUG - httpcore.http11 - send_request_headers.started request=<Request [b'POST']>\n",
      "2025-07-17 18:20:15,453 - DEBUG - httpcore.http11 - send_request_headers.complete\n",
      "2025-07-17 18:20:15,454 - DEBUG - httpcore.http11 - send_request_body.started request=<Request [b'POST']>\n",
      "2025-07-17 18:20:15,454 - DEBUG - httpcore.http11 - send_request_body.complete\n",
      "2025-07-17 18:20:15,454 - DEBUG - httpcore.http11 - receive_response_headers.started request=<Request [b'POST']>\n",
      "2025-07-17 18:20:25,014 - DEBUG - httpcore.http11 - receive_response_headers.complete return_value=(b'HTTP/1.1', 200, b'OK', [(b'Content-Type', b'application/json; charset=UTF-8'), (b'Vary', b'Origin'), (b'Vary', b'X-Origin'), (b'Vary', b'Referer'), (b'Content-Encoding', b'gzip'), (b'Date', b'Thu, 17 Jul 2025 12:50:24 GMT'), (b'Server', b'scaffolding on HTTPServer2'), (b'X-XSS-Protection', b'0'), (b'X-Frame-Options', b'SAMEORIGIN'), (b'X-Content-Type-Options', b'nosniff'), (b'Alt-Svc', b'h3=\":443\"; ma=2592000,h3-29=\":443\"; ma=2592000'), (b'Transfer-Encoding', b'chunked')])\n",
      "2025-07-17 18:20:25,015 - INFO - httpx - HTTP Request: POST https://us-central1-aiplatform.googleapis.com/v1beta1/projects/alpha-code-461805/locations/us-central1/publishers/google/models/gemini-2.5-pro:generateContent \"HTTP/1.1 200 OK\"\n",
      "2025-07-17 18:20:25,017 - DEBUG - httpcore.http11 - receive_response_body.started request=<Request [b'POST']>\n",
      "2025-07-17 18:20:25,018 - DEBUG - httpcore.http11 - receive_response_body.complete\n",
      "2025-07-17 18:20:25,022 - DEBUG - httpcore.http11 - response_closed.started\n",
      "2025-07-17 18:20:25,023 - DEBUG - httpcore.http11 - response_closed.complete\n",
      "2025-07-17 18:20:25,024 - INFO - google_adk.google.adk.models.google_llm - \n",
      "LLM Response:\n",
      "-----------------------------------------------------------\n",
      "Text:\n",
      "This article from the Google Cloud - Community blog explains the difference between AI agents and simpler bots, highlighting the \"agent advantage.\" Here's a summary:\n",
      "\n",
      "**AI agents are a major advancement over traditional chatbots.** While bots follow pre-programmed scripts, AI agents are autonomous systems that can understand goals, create plans, and take independent action. They are described as \"digital teammates\" capable of handling complex and important tasks.\n",
      "\n",
      "An AI agent has three key components:\n",
      "\n",
      "*   **An LLM \"Brain\":** A large language model (like Google's Gemini) that provides the core intelligence for understanding, reasoning, and planning.\n",
      "*   **Memory:** Both short-term memory for the current task and long-term memory to recall past interactions and learn over time.\n",
      "*   **Tool Use:** The ability to connect to and use other software, APIs, and data sources, allowing the agent to perform actions in the real world (e.g., accessing customer records, booking systems, or the internet).\n",
      "\n",
      "The article also contrasts AI agents with a simpler technique called **prompt chaining**. Prompt chaining is like a fixed recipe, where a series of AI prompts are run in a specific order. This is useful for straightforward, repetitive tasks. AI agents, on the other hand, are dynamic. They can analyze a situation, choose the right tools for the job, and adapt their plan if they encounter problems.\n",
      "\n",
      "The article uses a travel-related example to illustrate the difference. Prompt chaining could be used to analyze customer feedback in a structured way. However, an AI agent could handle a complex customer request like changing a flight and hotel booking by dynamically accessing airline and hotel systems, calculating fees, and presenting the customer with a personalized solution.\n",
      "\n",
      "In essence, if a task is predictable and follows a clear path, prompt chaining may be sufficient. But for complex, dynamic tasks that require independent decision-making and interaction with various systems, an AI agent is necessary.\n",
      "-----------------------------------------------------------\n",
      "Function calls:\n",
      "\n",
      "-----------------------------------------------------------\n",
      "Raw response:\n",
      "{\"sdk_http_response\":{\"headers\":{\"content-type\":\"application/json; charset=UTF-8\",\"vary\":\"Origin, X-Origin, Referer\",\"content-encoding\":\"gzip\",\"date\":\"Thu, 17 Jul 2025 12:50:24 GMT\",\"server\":\"scaffolding on HTTPServer2\",\"x-xss-protection\":\"0\",\"x-frame-options\":\"SAMEORIGIN\",\"x-content-type-options\":\"nosniff\",\"alt-svc\":\"h3=\\\":443\\\"; ma=2592000,h3-29=\\\":443\\\"; ma=2592000\",\"transfer-encoding\":\"chunked\"}},\"candidates\":[{\"content\":{\"parts\":[{\"text\":\"This article from the Google Cloud - Community blog explains the difference between AI agents and simpler bots, highlighting the \\\"agent advantage.\\\" Here's a summary:\\n\\n**AI agents are a major advancement over traditional chatbots.** While bots follow pre-programmed scripts, AI agents are autonomous systems that can understand goals, create plans, and take independent action. They are described as \\\"digital teammates\\\" capable of handling complex and important tasks.\\n\\nAn AI agent has three key components:\\n\\n*   **An LLM \\\"Brain\\\":** A large language model (like Google's Gemini) that provides the core intelligence for understanding, reasoning, and planning.\\n*   **Memory:** Both short-term memory for the current task and long-term memory to recall past interactions and learn over time.\\n*   **Tool Use:** The ability to connect to and use other software, APIs, and data sources, allowing the agent to perform actions in the real world (e.g., accessing customer records, booking systems, or the internet).\\n\\nThe article also contrasts AI agents with a simpler technique called **prompt chaining**. Prompt chaining is like a fixed recipe, where a series of AI prompts are run in a specific order. This is useful for straightforward, repetitive tasks. AI agents, on the other hand, are dynamic. They can analyze a situation, choose the right tools for the job, and adapt their plan if they encounter problems.\\n\\nThe article uses a travel-related example to illustrate the difference. Prompt chaining could be used to analyze customer feedback in a structured way. However, an AI agent could handle a complex customer request like changing a flight and hotel booking by dynamically accessing airline and hotel systems, calculating fees, and presenting the customer with a personalized solution.\\n\\nIn essence, if a task is predictable and follows a clear path, prompt chaining may be sufficient. But for complex, dynamic tasks that require independent decision-making and interaction with various systems, an AI agent is necessary.\"}],\"role\":\"model\"},\"finish_reason\":\"STOP\",\"avg_logprobs\":-0.05942679288094504}],\"create_time\":\"2025-07-17T12:50:16.995088Z\",\"response_id\":\"iPF4aJDePJCQm9IP3rqNsQY\",\"model_version\":\"gemini-2.5-pro\",\"usage_metadata\":{\"candidates_token_count\":399,\"candidates_tokens_details\":[{\"modality\":\"TEXT\",\"token_count\":399}],\"prompt_token_count\":928,\"prompt_tokens_details\":[{\"modality\":\"TEXT\",\"token_count\":928}],\"thoughts_token_count\":399,\"total_token_count\":1726,\"traffic_type\":\"ON_DEMAND\"},\"automatic_function_calling_history\":[]}\n",
      "-----------------------------------------------------------\n",
      "\n",
      "2025-07-17 18:20:25,027 - DEBUG - httpcore.connection - close.started\n",
      "2025-07-17 18:20:25,028 - DEBUG - httpcore.connection - close.failed exception=CancelledError()\n"
     ]
    },
    {
     "name": "stdout",
     "output_type": "stream",
     "text": [
      "{'content': {'parts': [{'text': 'This article from the Google Cloud - Community blog explains the difference between AI agents and simpler bots, highlighting the \"agent advantage.\" Here\\'s a summary:\\n\\n**AI agents are a major advancement over traditional chatbots.** While bots follow pre-programmed scripts, AI agents are autonomous systems that can understand goals, create plans, and take independent action. They are described as \"digital teammates\" capable of handling complex and important tasks.\\n\\nAn AI agent has three key components:\\n\\n*   **An LLM \"Brain\":** A large language model (like Google\\'s Gemini) that provides the core intelligence for understanding, reasoning, and planning.\\n*   **Memory:** Both short-term memory for the current task and long-term memory to recall past interactions and learn over time.\\n*   **Tool Use:** The ability to connect to and use other software, APIs, and data sources, allowing the agent to perform actions in the real world (e.g., accessing customer records, booking systems, or the internet).\\n\\nThe article also contrasts AI agents with a simpler technique called **prompt chaining**. Prompt chaining is like a fixed recipe, where a series of AI prompts are run in a specific order. This is useful for straightforward, repetitive tasks. AI agents, on the other hand, are dynamic. They can analyze a situation, choose the right tools for the job, and adapt their plan if they encounter problems.\\n\\nThe article uses a travel-related example to illustrate the difference. Prompt chaining could be used to analyze customer feedback in a structured way. However, an AI agent could handle a complex customer request like changing a flight and hotel booking by dynamically accessing airline and hotel systems, calculating fees, and presenting the customer with a personalized solution.\\n\\nIn essence, if a task is predictable and follows a clear path, prompt chaining may be sufficient. But for complex, dynamic tasks that require independent decision-making and interaction with various systems, an AI agent is necessary.'}], 'role': 'model'}, 'usage_metadata': {'candidates_token_count': 399, 'candidates_tokens_details': [{'modality': <MediaModality.TEXT: 'TEXT'>, 'token_count': 399}], 'prompt_token_count': 928, 'prompt_tokens_details': [{'modality': <MediaModality.TEXT: 'TEXT'>, 'token_count': 928}], 'thoughts_token_count': 399, 'total_token_count': 1726, 'traffic_type': <TrafficType.ON_DEMAND: 'ON_DEMAND'>}, 'invocation_id': 'e-c033834c-720e-4193-a922-84a823252886', 'author': 'root_orchestrator', 'actions': {'state_delta': {}, 'artifact_delta': {}, 'requested_auth_configs': {}}, 'id': '98mQdVvC', 'timestamp': 1752756614.690162}\n"
     ]
    }
   ],
   "source": [
    "for event in app.stream_query(\n",
    "    user_id=\"u_123\",\n",
    "    session_id=session.id,\n",
    "    message=\"Summarize the following BLOG URL : https://medium.com/google-cloud/the-agent-advantage-why-smart-ai-is-better-than-simple-bots-and-how-to-know-whats-real-62bebc28a0e6\",\n",
    "    ):\n",
    "    print(event)"
   ]
  },
  {
   "cell_type": "code",
   "execution_count": 9,
   "id": "e709c626",
   "metadata": {},
   "outputs": [
    {
     "name": "stdout",
     "output_type": "stream",
     "text": [
      "Identified the following requirements: {'google-cloud-aiplatform': '1.103.0', 'cloudpickle': '3.1.1', 'pydantic': '2.11.7'}\n"
     ]
    },
    {
     "name": "stderr",
     "output_type": "stream",
     "text": [
      "2025-07-17 18:20:33,411 - INFO - vertexai.agent_engines - Identified the following requirements: {'google-cloud-aiplatform': '1.103.0', 'cloudpickle': '3.1.1', 'pydantic': '2.11.7'}\n"
     ]
    },
    {
     "name": "stdout",
     "output_type": "stream",
     "text": [
      "The following requirements are missing: {'cloudpickle', 'pydantic'}\n"
     ]
    },
    {
     "name": "stderr",
     "output_type": "stream",
     "text": [
      "2025-07-17 18:20:33,452 - WARNING - vertexai.agent_engines - The following requirements are missing: {'cloudpickle', 'pydantic'}\n"
     ]
    },
    {
     "name": "stdout",
     "output_type": "stream",
     "text": [
      "The following requirements are appended: {'pydantic==2.11.7', 'cloudpickle==3.1.1'}\n"
     ]
    },
    {
     "name": "stderr",
     "output_type": "stream",
     "text": [
      "2025-07-17 18:20:33,453 - INFO - vertexai.agent_engines - The following requirements are appended: {'pydantic==2.11.7', 'cloudpickle==3.1.1'}\n"
     ]
    },
    {
     "name": "stdout",
     "output_type": "stream",
     "text": [
      "The final list of requirements: ['google-cloud-aiplatform[agent_engines,adk]', 'a2a-sdk', 'pydantic==2.11.7', 'cloudpickle==3.1.1']\n"
     ]
    },
    {
     "name": "stderr",
     "output_type": "stream",
     "text": [
      "2025-07-17 18:20:33,454 - INFO - vertexai.agent_engines - The final list of requirements: ['google-cloud-aiplatform[agent_engines,adk]', 'a2a-sdk', 'pydantic==2.11.7', 'cloudpickle==3.1.1']\n",
      "2025-07-17 18:20:34,312 - DEBUG - urllib3.util.retry - Converted retries value: 3 -> Retry(total=3, connect=None, read=None, redirect=None, status=None)\n",
      "2025-07-17 18:20:34,314 - DEBUG - urllib3.connectionpool - Starting new HTTPS connection (1): oauth2.googleapis.com:443\n",
      "2025-07-17 18:20:34,514 - DEBUG - urllib3.connectionpool - https://oauth2.googleapis.com:443 \"POST /token HTTP/1.1\" 200 None\n",
      "2025-07-17 18:20:34,515 - DEBUG - urllib3.connectionpool - Starting new HTTPS connection (1): storage.googleapis.com:443\n",
      "2025-07-17 18:20:34,871 - DEBUG - urllib3.connectionpool - https://storage.googleapis.com:443 \"GET /storage/v1/b/a2a_search_agent?projection=noAcl&prettyPrint=false HTTP/1.1\" 200 772\n"
     ]
    },
    {
     "name": "stdout",
     "output_type": "stream",
     "text": [
      "Using bucket a2a_search_agent\n"
     ]
    },
    {
     "name": "stderr",
     "output_type": "stream",
     "text": [
      "2025-07-17 18:20:34,872 - INFO - vertexai.agent_engines - Using bucket a2a_search_agent\n",
      "2025-07-17 18:20:35,140 - DEBUG - urllib3.connectionpool - https://storage.googleapis.com:443 \"POST /upload/storage/v1/b/a2a_search_agent/o?uploadType=resumable HTTP/1.1\" 200 0\n",
      "2025-07-17 18:20:35,741 - DEBUG - urllib3.connectionpool - https://storage.googleapis.com:443 \"PUT /upload/storage/v1/b/a2a_search_agent/o?uploadType=resumable&upload_id=ABgVH88d9NRsSHXdqyK-QxWcOFP-HK3tSYfGa2kClVxnA3kRoFuf21bunazyyY8YC_UGZwC-SOKLBWAORGgnavaXnq7AhYsdFflTR-jsp4gvlK8 HTTP/1.1\" 200 888\n",
      "2025-07-17 18:20:36,358 - DEBUG - urllib3.connectionpool - https://storage.googleapis.com:443 \"GET /download/storage/v1/b/a2a_search_agent/o/agent_engine%2Fagent_engine.pkl?alt=media HTTP/1.1\" 206 1837\n"
     ]
    },
    {
     "name": "stdout",
     "output_type": "stream",
     "text": [
      "Wrote to gs://a2a_search_agent/agent_engine/agent_engine.pkl\n"
     ]
    },
    {
     "name": "stderr",
     "output_type": "stream",
     "text": [
      "2025-07-17 18:20:36,359 - INFO - vertexai.agent_engines - Wrote to gs://a2a_search_agent/agent_engine/agent_engine.pkl\n",
      "2025-07-17 18:20:37,158 - DEBUG - urllib3.connectionpool - https://storage.googleapis.com:443 \"POST /upload/storage/v1/b/a2a_search_agent/o?uploadType=multipart HTTP/1.1\" 200 872\n"
     ]
    },
    {
     "name": "stdout",
     "output_type": "stream",
     "text": [
      "Writing to gs://a2a_search_agent/agent_engine/requirements.txt\n"
     ]
    },
    {
     "name": "stderr",
     "output_type": "stream",
     "text": [
      "2025-07-17 18:20:37,159 - INFO - vertexai.agent_engines - Writing to gs://a2a_search_agent/agent_engine/requirements.txt\n"
     ]
    },
    {
     "name": "stdout",
     "output_type": "stream",
     "text": [
      "Creating in-memory tarfile of extra_packages\n"
     ]
    },
    {
     "name": "stderr",
     "output_type": "stream",
     "text": [
      "2025-07-17 18:20:37,159 - INFO - vertexai.agent_engines - Creating in-memory tarfile of extra_packages\n",
      "2025-07-17 18:20:37,827 - DEBUG - urllib3.connectionpool - https://storage.googleapis.com:443 \"POST /upload/storage/v1/b/a2a_search_agent/o?uploadType=multipart HTTP/1.1\" 200 886\n"
     ]
    },
    {
     "name": "stdout",
     "output_type": "stream",
     "text": [
      "Writing to gs://a2a_search_agent/agent_engine/dependencies.tar.gz\n"
     ]
    },
    {
     "name": "stderr",
     "output_type": "stream",
     "text": [
      "2025-07-17 18:20:37,828 - INFO - vertexai.agent_engines - Writing to gs://a2a_search_agent/agent_engine/dependencies.tar.gz\n",
      "2025-07-17 18:20:38,050 - DEBUG - urllib3.connectionpool - Starting new HTTPS connection (1): oauth2.googleapis.com:443\n",
      "2025-07-17 18:20:38,264 - DEBUG - urllib3.connectionpool - https://oauth2.googleapis.com:443 \"POST /token HTTP/1.1\" 200 None\n"
     ]
    },
    {
     "name": "stdout",
     "output_type": "stream",
     "text": [
      "Creating AgentEngine\n"
     ]
    },
    {
     "name": "stderr",
     "output_type": "stream",
     "text": [
      "2025-07-17 18:20:39,605 - INFO - vertexai.agent_engines - Creating AgentEngine\n"
     ]
    },
    {
     "name": "stdout",
     "output_type": "stream",
     "text": [
      "Create AgentEngine backing LRO: projects/100889782425/locations/us-central1/reasoningEngines/631796973506134016/operations/6667949474502934528\n"
     ]
    },
    {
     "name": "stderr",
     "output_type": "stream",
     "text": [
      "2025-07-17 18:20:39,606 - INFO - vertexai.agent_engines - Create AgentEngine backing LRO: projects/100889782425/locations/us-central1/reasoningEngines/631796973506134016/operations/6667949474502934528\n"
     ]
    },
    {
     "name": "stdout",
     "output_type": "stream",
     "text": [
      "View progress and logs at https://console.cloud.google.com/logs/query?project=alpha-code-461805\n"
     ]
    },
    {
     "name": "stderr",
     "output_type": "stream",
     "text": [
      "2025-07-17 18:20:39,606 - INFO - vertexai.agent_engines - View progress and logs at https://console.cloud.google.com/logs/query?project=alpha-code-461805\n"
     ]
    },
    {
     "name": "stdout",
     "output_type": "stream",
     "text": [
      "AgentEngine created. Resource name: projects/100889782425/locations/us-central1/reasoningEngines/631796973506134016\n"
     ]
    },
    {
     "name": "stderr",
     "output_type": "stream",
     "text": [
      "2025-07-17 18:24:13,578 - INFO - vertexai.agent_engines - AgentEngine created. Resource name: projects/100889782425/locations/us-central1/reasoningEngines/631796973506134016\n"
     ]
    },
    {
     "name": "stdout",
     "output_type": "stream",
     "text": [
      "To use this AgentEngine in another session:\n"
     ]
    },
    {
     "name": "stderr",
     "output_type": "stream",
     "text": [
      "2025-07-17 18:24:13,580 - INFO - vertexai.agent_engines - To use this AgentEngine in another session:\n"
     ]
    },
    {
     "name": "stdout",
     "output_type": "stream",
     "text": [
      "agent_engine = vertexai.agent_engines.get('projects/100889782425/locations/us-central1/reasoningEngines/631796973506134016')\n"
     ]
    },
    {
     "name": "stderr",
     "output_type": "stream",
     "text": [
      "2025-07-17 18:24:13,581 - INFO - vertexai.agent_engines - agent_engine = vertexai.agent_engines.get('projects/100889782425/locations/us-central1/reasoningEngines/631796973506134016')\n"
     ]
    }
   ],
   "source": [
    "from vertexai import agent_engines\n",
    "\n",
    "remote_agent = agent_engines.create(\n",
    "    app,\n",
    "    display_name=AGENT_DISPLAY_NAME,\n",
    "    description=AGENT_DESCRIPTION,\n",
    "    requirements=[\"google-cloud-aiplatform[agent_engines,adk]\", \"a2a-sdk\"],\n",
    "    extra_packages=[\"scrap_translate\"]\n",
    ")"
   ]
  },
  {
   "cell_type": "code",
   "execution_count": 10,
   "id": "5da27ef2",
   "metadata": {},
   "outputs": [
    {
     "name": "stdout",
     "output_type": "stream",
     "text": [
      "{'content': {'parts': [{'function_call': {'id': 'adk-f2f81aba-0db0-4bfd-86c5-fee160725382', 'args': {}, 'name': 'list_agents'}}], 'role': 'model'}, 'usage_metadata': {'candidates_token_count': 3, 'candidates_tokens_details': [{'modality': 'TEXT', 'token_count': 3}], 'prompt_token_count': 260, 'prompt_tokens_details': [{'modality': 'TEXT', 'token_count': 260}], 'thoughts_token_count': 133, 'total_token_count': 396, 'traffic_type': 'ON_DEMAND'}, 'invocation_id': 'e-3242af82-8027-42ad-9cc7-dd74761249dc', 'author': 'root_orchestrator', 'actions': {'state_delta': {}, 'artifact_delta': {}, 'requested_auth_configs': {}}, 'long_running_tool_ids': [], 'id': '46318d9e-7fb6-473d-9149-ba6f18f4bb6d', 'timestamp': 1752756862.491556}\n",
      "{'content': {'parts': [{'function_response': {'id': 'adk-f2f81aba-0db0-4bfd-86c5-fee160725382', 'name': 'list_agents', 'response': {'result': {'capabilities': {'streaming': True}, 'defaultInputModes': ['text'], 'defaultOutputModes': ['text'], 'description': 'Agent designed to efficiently scrape specified content from multiple URLs or single URL provided by the user.', 'name': 'MultiURLBrowser', 'skills': [{'description': 'Agent to scrape content from the URLs specified by the user.', 'examples': ['Scrape the URL: https://medium.com/@neeraj_agrawal/an-ai-travel-agent-in-action-a-detailed-look-at-how-two-agents-plan-a-trip-86a1735368e1', 'Extract data from: https://www.example.com/page1 and https://www.example.com/page2'], 'id': 'MultiURLBrowser', 'name': 'MultiURLBrowser_Agent', 'tags': ['multi-url', 'browser', 'scraper', 'web']}], 'url': 'https://search-agent-5urnfhd5eq-uc.a.run.app', 'version': '1.0.0'}}}}], 'role': 'user'}, 'invocation_id': 'e-3242af82-8027-42ad-9cc7-dd74761249dc', 'author': 'root_orchestrator', 'actions': {'state_delta': {}, 'artifact_delta': {}, 'requested_auth_configs': {}}, 'id': '967ac352-8a82-46ab-801b-039534440ab8', 'timestamp': 1752756865.388769}\n",
      "{'content': {'parts': [{'function_call': {'id': 'adk-9d8c7a10-65a8-4fee-b009-bfd214435eec', 'args': {'agent_name': 'MultiURLBrowser', 'message': 'Summarize the following BLOG URL : https://medium.com/google-cloud/the-agent-advantage-why-smart-ai-is-better-than-simple-bots-and-how-to-know-whats-real-62bebc28a0e6'}, 'name': 'call_agent'}}], 'role': 'model'}, 'usage_metadata': {'candidates_token_count': 71, 'candidates_tokens_details': [{'modality': 'TEXT', 'token_count': 71}], 'prompt_token_count': 447, 'prompt_tokens_details': [{'modality': 'TEXT', 'token_count': 447}], 'thoughts_token_count': 645, 'total_token_count': 1163, 'traffic_type': 'ON_DEMAND'}, 'invocation_id': 'e-3242af82-8027-42ad-9cc7-dd74761249dc', 'author': 'root_orchestrator', 'actions': {'state_delta': {}, 'artifact_delta': {}, 'requested_auth_configs': {}}, 'long_running_tool_ids': [], 'id': 'd18fa148-88b7-4586-a344-b1d192c49e5d', 'timestamp': 1752756865.589944}\n",
      "{'content': {'parts': [{'function_response': {'id': 'adk-9d8c7a10-65a8-4fee-b009-bfd214435eec', 'name': 'call_agent', 'response': {'result': 'This article, \"AI Agents vs. Bots: The True Digital Teammate,\" distinguishes between traditional chatbots and the more advanced AI agents. Here\\'s a summary:\\n\\n**Key Difference:** The defining feature of an AI agent is its \"agency\" – the ability to act autonomously to achieve goals. Unlike bots that follow predefined scripts, agents can understand objectives, create plans, and take independent actions.\\n\\n**Components of an AI Agent:**\\n*   **LLM Brain:** A powerful Large Language Model (like Google\\'s Gemini) that provides the core intelligence for understanding, reasoning, and planning.\\n*   **Memory:**\\n    *   **Short-Term:** For tracking the immediate context of a task or conversation.\\n    *   **Long-Term:** To remember past interactions and user preferences, allowing for personalization and continuous learning.\\n*   **Tool Use:** This is the agent\\'s connection to the outside world, enabling it to interact with other software, databases, APIs, and even the internet to execute tasks.\\n\\n**When to Use an Agent vs. Prompt Chaining:**\\n*   **Prompt Chaining:** This is a simpler method where AI prompts are linked in a fixed sequence. It\\'s suitable for straightforward, repetitive tasks with a predictable workflow.\\n*   **AI Agents:** These are necessary for complex situations that require independent decision-making, adapting to unexpected information, and using various tools dynamically.\\n\\n**Illustrative Example:**\\nThe article uses a travel scenario to highlight the difference. For a simple task like summarizing customer feedback, prompt chaining is sufficient. However, for a complex request like changing a flight and hotel booking with specific constraints, an AI agent is required. The agent can understand the nuanced request, access different systems (airline, hotel, payment) to gather real-time information, and then formulate a customized, actionable response.\\n\\nIn essence, the article posits that AI is evolving from a mere conversational tool into a true \"digital employee\" capable of handling complex business operations independently.'}}}], 'role': 'user'}, 'invocation_id': 'e-3242af82-8027-42ad-9cc7-dd74761249dc', 'author': 'root_orchestrator', 'actions': {'state_delta': {}, 'artifact_delta': {}, 'requested_auth_configs': {}}, 'id': '43caf674-5538-485a-82dd-e8ee9643d958', 'timestamp': 1752756895.825714}\n",
      "{'content': {'parts': [{'text': 'This article, \"AI Agents vs. Bots: The True Digital Teammate,\" distinguishes between traditional chatbots and the more advanced AI agents. Here\\'s a summary:\\n\\n**Key Difference:** The defining feature of an AI agent is its \"agency\" – the ability to act autonomously to achieve goals. Unlike bots that follow predefined scripts, agents can understand objectives, create plans, and take independent actions.\\n\\n**Components of an AI Agent:**\\n*   **LLM Brain:** A powerful Large Language Model (like Google\\'s Gemini) that provides the core intelligence for understanding, reasoning, and planning.\\n*   **Memory:**\\n    *   **Short-Term:** For tracking the immediate context of a task or conversation.\\n    *   **Long-Term:** To remember past interactions and user preferences, allowing for personalization and continuous learning.\\n*   **Tool Use:** This is the agent\\'s connection to the outside world, enabling it to interact with other software, databases, APIs, and even the internet to execute tasks.\\n\\n**When to Use an Agent vs. Prompt Chaining:**\\n*   **Prompt Chaining:** This is a simpler method where AI prompts are linked in a fixed sequence. It\\'s suitable for straightforward, repetitive tasks with a predictable workflow.\\n*   **AI Agents:** These are necessary for complex situations that require independent decision-making, adapting to unexpected information, and using various tools dynamically.\\n\\n**Illustrative Example:**\\nThe article uses a travel scenario to highlight the difference. For a simple task like summarizing customer feedback, prompt chaining is sufficient. However, for a complex request like changing a flight and hotel booking with specific constraints, an AI agent is required. The agent can understand the nuanced request, access different systems (airline, hotel, payment) to gather real-time information, and then formulate a customized, actionable response.\\n\\nIn essence, the article posits that AI is evolving from a mere conversational tool into a true \"digital employee\" capable of handling complex business operations independently.'}], 'role': 'model'}, 'usage_metadata': {'candidates_token_count': 414, 'candidates_tokens_details': [{'modality': 'TEXT', 'token_count': 414}], 'prompt_token_count': 936, 'prompt_tokens_details': [{'modality': 'TEXT', 'token_count': 936}], 'thoughts_token_count': 318, 'total_token_count': 1668, 'traffic_type': 'ON_DEMAND'}, 'invocation_id': 'e-3242af82-8027-42ad-9cc7-dd74761249dc', 'author': 'root_orchestrator', 'actions': {'state_delta': {}, 'artifact_delta': {}, 'requested_auth_configs': {}}, 'id': '1378b716-e542-46d4-97b0-aae691542056', 'timestamp': 1752756896.06011}\n"
     ]
    }
   ],
   "source": [
    "for event in remote_agent.stream_query(\n",
    "    user_id=\"user_123\",\n",
    "    message=\"Summarize the following BLOG URL : https://medium.com/google-cloud/the-agent-advantage-why-smart-ai-is-better-than-simple-bots-and-how-to-know-whats-real-62bebc28a0e6\"\n",
    "):\n",
    "    print(event)"
   ]
  }
 ],
 "metadata": {
  "kernelspec": {
   "display_name": ".venv",
   "language": "python",
   "name": "python3"
  },
  "language_info": {
   "codemirror_mode": {
    "name": "ipython",
    "version": 3
   },
   "file_extension": ".py",
   "mimetype": "text/x-python",
   "name": "python",
   "nbconvert_exporter": "python",
   "pygments_lexer": "ipython3",
   "version": "3.12.7"
  }
 },
 "nbformat": 4,
 "nbformat_minor": 5
}
